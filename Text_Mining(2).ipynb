{
 "cells": [
  {
   "cell_type": "markdown",
   "id": "9759baca",
   "metadata": {},
   "source": [
    "## Natural Language Processing (NLP) -- Text mining(2)"
   ]
  },
  {
   "cell_type": "markdown",
   "id": "5f3f985c",
   "metadata": {
    "ExecuteTime": {
     "end_time": "2022-01-03T18:34:31.976370Z",
     "start_time": "2022-01-03T18:34:31.965889Z"
    }
   },
   "source": [
    "## Business problem:\n",
    "### Extract reviews of any product from ecommerce website like amazon\n",
    "\n",
    "#### Perform emotion mining"
   ]
  },
  {
   "cell_type": "code",
   "execution_count": 1,
   "id": "15e18317",
   "metadata": {
    "ExecuteTime": {
     "end_time": "2022-01-03T17:37:05.227238Z",
     "start_time": "2022-01-03T17:37:00.788749Z"
    }
   },
   "outputs": [],
   "source": [
    "# Importing necessary libraries\n",
    "from bs4 import BeautifulSoup as bs \n",
    "import requests "
   ]
  },
  {
   "cell_type": "code",
   "execution_count": 2,
   "id": "1797ee7e",
   "metadata": {
    "ExecuteTime": {
     "end_time": "2022-01-03T17:38:14.137525Z",
     "start_time": "2022-01-03T17:38:14.130011Z"
    }
   },
   "outputs": [],
   "source": [
    "bt='https://www.amazon.in'\n",
    "ul='https://www.amazon.in/Apple-MacBook-Air-13-3-inch-MQD32HN/product-reviews/B073Q5R6VR/ref=cm_cr_getr_d_paging_btm_next_30?ie=UTF8&reviewerType=all_reviews'"
   ]
  },
  {
   "cell_type": "code",
   "execution_count": 3,
   "id": "6568d46c",
   "metadata": {
    "ExecuteTime": {
     "end_time": "2022-01-03T17:38:34.743705Z",
     "start_time": "2022-01-03T17:38:34.729599Z"
    }
   },
   "outputs": [],
   "source": [
    "cust_name = []   #define list to store Name of the customers\n",
    "review_title = []\n",
    "rate = []\n",
    "review_content = []"
   ]
  },
  {
   "cell_type": "code",
   "execution_count": null,
   "id": "84d34814",
   "metadata": {
    "ExecuteTime": {
     "end_time": "2022-01-03T17:44:58.257397Z",
     "start_time": "2022-01-03T17:39:33.240323Z"
    }
   },
   "outputs": [],
   "source": [
    "tt = 0\n",
    "while tt == 0:\n",
    "    page = requests.get(ul)\n",
    "    while page.ok == False:#if it fails to connect then this loop will be executing continuously until get response from site  \n",
    "        page = requests.get(ul)\n",
    "   \n",
    "\n",
    "    soup = bs(page.content,'html.parser')\n",
    "    soup.prettify()       #Prettify() function in BeautifulSoup will enable us to view how the tags are nested in the document.\n",
    "    \n",
    "    names = soup.find_all('span', class_='a-profile-name')\n",
    "    names.pop(0)\n",
    "    names.pop(0)\n",
    "    \n",
    "    for i in range(0,len(names)):\n",
    "        cust_name.append(names[i].get_text())\n",
    "        \n",
    "    title = soup.find_all(\"a\",{\"data-hook\":\"review-title\"})\n",
    "    for i in range(0,len(title)):\n",
    "        review_title.append(title[i].get_text())\n",
    "\n",
    "    rating = soup.find_all('i',class_='review-rating')\n",
    "    rating.pop(0)\n",
    "    rating.pop(0)\n",
    "    for i in range(0,len(rating)):\n",
    "        rate.append(rating[i].get_text())\n",
    "\n",
    "    review = soup.find_all(\"span\",{\"data-hook\":\"review-body\"})\n",
    "    for i in range(0,len(review)):\n",
    "        review_content.append(review[i].get_text())\n",
    "        \n",
    "    try:\n",
    "        for div in soup.findAll('li', attrs={'class':'a-last'}):\n",
    "            A = div.find('a')['href']\n",
    "        ul = bt + A\n",
    "    except:\n",
    "        break"
   ]
  },
  {
   "cell_type": "code",
   "execution_count": 11,
   "id": "c2e0dd22",
   "metadata": {
    "ExecuteTime": {
     "end_time": "2022-01-03T17:45:45.097960Z",
     "start_time": "2022-01-03T17:45:45.067406Z"
    }
   },
   "outputs": [
    {
     "data": {
      "text/plain": [
       "1880"
      ]
     },
     "execution_count": 11,
     "metadata": {},
     "output_type": "execute_result"
    }
   ],
   "source": [
    "len(cust_name)"
   ]
  },
  {
   "cell_type": "code",
   "execution_count": 12,
   "id": "30089c6a",
   "metadata": {
    "ExecuteTime": {
     "end_time": "2022-01-03T17:45:54.659795Z",
     "start_time": "2022-01-03T17:45:54.638202Z"
    }
   },
   "outputs": [
    {
     "data": {
      "text/plain": [
       "1880"
      ]
     },
     "execution_count": 12,
     "metadata": {},
     "output_type": "execute_result"
    }
   ],
   "source": [
    "len(review_title)"
   ]
  },
  {
   "cell_type": "code",
   "execution_count": 13,
   "id": "20b671c1",
   "metadata": {
    "ExecuteTime": {
     "end_time": "2022-01-03T17:45:55.815177Z",
     "start_time": "2022-01-03T17:45:55.799154Z"
    }
   },
   "outputs": [
    {
     "data": {
      "text/plain": [
       "1880"
      ]
     },
     "execution_count": 13,
     "metadata": {},
     "output_type": "execute_result"
    }
   ],
   "source": [
    "len(review_content)"
   ]
  },
  {
   "cell_type": "code",
   "execution_count": 14,
   "id": "9bcdaf13",
   "metadata": {
    "ExecuteTime": {
     "end_time": "2022-01-03T17:45:56.763951Z",
     "start_time": "2022-01-03T17:45:56.738521Z"
    }
   },
   "outputs": [
    {
     "data": {
      "text/plain": [
       "1880"
      ]
     },
     "execution_count": 14,
     "metadata": {},
     "output_type": "execute_result"
    }
   ],
   "source": [
    "len(rate)"
   ]
  },
  {
   "cell_type": "code",
   "execution_count": 9,
   "id": "b42f4b3d",
   "metadata": {
    "ExecuteTime": {
     "end_time": "2022-01-03T17:45:57.638802Z",
     "start_time": "2022-01-03T17:45:57.614752Z"
    }
   },
   "outputs": [],
   "source": [
    "review_title[:] = [titles.lstrip('\\n') for titles in review_title]\n",
    "\n",
    "review_title[:] = [titles.rstrip('\\n') for titles in review_title]\n",
    "\n",
    "review_content[:] = [titles.lstrip('\\n') for titles in review_content]\n",
    "\n",
    "review_content[:] = [titles.rstrip('\\n') for titles in review_content]"
   ]
  },
  {
   "cell_type": "code",
   "execution_count": 1,
   "id": "e05d13ea",
   "metadata": {
    "ExecuteTime": {
     "end_time": "2022-01-03T17:50:14.408988Z",
     "start_time": "2022-01-03T17:45:58.997310Z"
    }
   },
   "outputs": [
    {
     "name": "stdout",
     "output_type": "stream",
     "text": [
      "Requirement already satisfied: textblob in c:\\users\\nikhil\\anaconda3\\lib\\site-packages (0.17.1)\n",
      "Requirement already satisfied: nltk>=3.1 in c:\\users\\nikhil\\anaconda3\\lib\\site-packages (from textblob) (3.6.1)\n",
      "Requirement already satisfied: tqdm in c:\\users\\nikhil\\anaconda3\\lib\\site-packages (from nltk>=3.1->textblob) (4.59.0)\n",
      "Requirement already satisfied: regex in c:\\users\\nikhil\\anaconda3\\lib\\site-packages (from nltk>=3.1->textblob) (2021.4.4)\n",
      "Requirement already satisfied: click in c:\\users\\nikhil\\anaconda3\\lib\\site-packages (from nltk>=3.1->textblob) (7.1.2)\n",
      "Requirement already satisfied: joblib in c:\\users\\nikhil\\anaconda3\\lib\\site-packages (from nltk>=3.1->textblob) (1.0.1)\n"
     ]
    },
    {
     "name": "stderr",
     "output_type": "stream",
     "text": [
      "[nltk_data] Downloading package brown to\n",
      "[nltk_data]     C:\\Users\\Nikhil\\AppData\\Roaming\\nltk_data...\n",
      "[nltk_data]   Package brown is already up-to-date!\n",
      "[nltk_data] Downloading package punkt to\n",
      "[nltk_data]     C:\\Users\\Nikhil\\AppData\\Roaming\\nltk_data...\n",
      "[nltk_data]   Package punkt is already up-to-date!\n",
      "[nltk_data] Downloading package wordnet to\n",
      "[nltk_data]     C:\\Users\\Nikhil\\AppData\\Roaming\\nltk_data...\n",
      "[nltk_data]   Package wordnet is already up-to-date!\n",
      "[nltk_data] Downloading package averaged_perceptron_tagger to\n",
      "[nltk_data]     C:\\Users\\Nikhil\\AppData\\Roaming\\nltk_data...\n",
      "Traceback (most recent call last):\n",
      "  File \"C:\\Users\\Nikhil\\anaconda3\\lib\\runpy.py\", line 194, in _run_module_as_main\n",
      "    return _run_code(code, main_globals, None,\n",
      "  File \"C:\\Users\\Nikhil\\anaconda3\\lib\\runpy.py\", line 87, in _run_code\n",
      "    exec(code, run_globals)\n",
      "  File \"C:\\Users\\Nikhil\\anaconda3\\lib\\site-packages\\textblob\\download_corpora.py\", line 51, in <module>\n",
      "    main()\n",
      "  File \"C:\\Users\\Nikhil\\anaconda3\\lib\\site-packages\\textblob\\download_corpora.py\", line 46, in main\n",
      "    download_all()\n",
      "  File \"C:\\Users\\Nikhil\\anaconda3\\lib\\site-packages\\textblob\\download_corpora.py\", line 39, in download_all\n",
      "    nltk.download(each)\n",
      "  File \"C:\\Users\\Nikhil\\anaconda3\\lib\\site-packages\\nltk\\downloader.py\", line 779, in download\n",
      "    for msg in self.incr_download(info_or_id, download_dir, force):\n",
      "  File \"C:\\Users\\Nikhil\\anaconda3\\lib\\site-packages\\nltk\\downloader.py\", line 643, in incr_download\n",
      "    for msg in self._download_package(info, download_dir, force):\n",
      "  File \"C:\\Users\\Nikhil\\anaconda3\\lib\\site-packages\\nltk\\downloader.py\", line 697, in _download_package\n",
      "    os.remove(filepath)\n",
      "PermissionError: [WinError 32] The process cannot access the file because it is being used by another process: 'C:\\\\Users\\\\Nikhil\\\\AppData\\\\Roaming\\\\nltk_data\\\\taggers\\\\averaged_perceptron_tagger.zip'\n",
      "[nltk_data] Downloading package stopwords to\n",
      "[nltk_data]     C:\\Users\\Nikhil\\AppData\\Roaming\\nltk_data...\n",
      "[nltk_data]   Package stopwords is already up-to-date!\n"
     ]
    }
   ],
   "source": [
    "!pip install -U textblob\n",
    "!python -m textblob.download_corpora\n",
    "\n",
    "import pandas as pd\n",
    "import numpy as np\n",
    "import matplotlib.pyplot as plt\n",
    "import seaborn as sns\n",
    "sns.set_style('white')\n",
    "import nltk\n",
    "from nltk.corpus import stopwords\n",
    "from nltk import ngrams\n",
    "from nltk.tokenize import word_tokenize\n",
    "from textblob import TextBlob, Word, Blobber\n",
    "import wordcloud\n",
    "from wordcloud import WordCloud\n",
    "from nltk.stem import WordNetLemmatizer\n",
    "lemmatizer=WordNetLemmatizer()\n",
    "nltk.download('stopwords')\n",
    "import warnings\n",
    "warnings.filterwarnings('ignore')"
   ]
  },
  {
   "cell_type": "code",
   "execution_count": 11,
   "id": "bd21ee7e",
   "metadata": {
    "ExecuteTime": {
     "end_time": "2022-01-03T17:50:27.499465Z",
     "start_time": "2022-01-03T17:50:27.403292Z"
    }
   },
   "outputs": [],
   "source": [
    "df = pd.DataFrame()"
   ]
  },
  {
   "cell_type": "code",
   "execution_count": 12,
   "id": "b303d610",
   "metadata": {
    "ExecuteTime": {
     "end_time": "2022-01-03T17:50:28.281363Z",
     "start_time": "2022-01-03T17:50:28.229655Z"
    }
   },
   "outputs": [],
   "source": [
    "df['Customer Name'] = cust_name\n",
    "df['Review Title'] = review_title\n",
    "df['Rating'] = rate\n",
    "df['Reviews'] = review_content"
   ]
  },
  {
   "cell_type": "code",
   "execution_count": 13,
   "id": "6162169b",
   "metadata": {
    "ExecuteTime": {
     "end_time": "2022-01-03T17:50:30.059833Z",
     "start_time": "2022-01-03T17:50:29.618810Z"
    }
   },
   "outputs": [
    {
     "data": {
      "text/html": [
       "<div>\n",
       "<style scoped>\n",
       "    .dataframe tbody tr th:only-of-type {\n",
       "        vertical-align: middle;\n",
       "    }\n",
       "\n",
       "    .dataframe tbody tr th {\n",
       "        vertical-align: top;\n",
       "    }\n",
       "\n",
       "    .dataframe thead th {\n",
       "        text-align: right;\n",
       "    }\n",
       "</style>\n",
       "<table border=\"1\" class=\"dataframe\">\n",
       "  <thead>\n",
       "    <tr style=\"text-align: right;\">\n",
       "      <th></th>\n",
       "      <th>Customer Name</th>\n",
       "      <th>Review Title</th>\n",
       "      <th>Rating</th>\n",
       "      <th>Reviews</th>\n",
       "    </tr>\n",
       "  </thead>\n",
       "  <tbody>\n",
       "    <tr>\n",
       "      <th>0</th>\n",
       "      <td>Shantanu Bangar</td>\n",
       "      <td>Superb</td>\n",
       "      <td>5.0 out of 5 stars</td>\n",
       "      <td>It's amazing..... battery last around 10 -12...</td>\n",
       "    </tr>\n",
       "    <tr>\n",
       "      <th>1</th>\n",
       "      <td>Sumit Kukade</td>\n",
       "      <td>DEAD after 1 year two months...</td>\n",
       "      <td>1.0 out of 5 stars</td>\n",
       "      <td>We buy macbook's expecting that it will last...</td>\n",
       "    </tr>\n",
       "    <tr>\n",
       "      <th>2</th>\n",
       "      <td>Kaushal</td>\n",
       "      <td>Justified Apple Product</td>\n",
       "      <td>5.0 out of 5 stars</td>\n",
       "      <td>Pros:1. Light weight and super fast response...</td>\n",
       "    </tr>\n",
       "    <tr>\n",
       "      <th>3</th>\n",
       "      <td>saurabh chauhan</td>\n",
       "      <td>My first apple product: fully satisfied- here ...</td>\n",
       "      <td>5.0 out of 5 stars</td>\n",
       "      <td>Best Laptop under 60k. If you don't want any...</td>\n",
       "    </tr>\n",
       "    <tr>\n",
       "      <th>4</th>\n",
       "      <td>Anvit shetty</td>\n",
       "      <td>Dead mac book air</td>\n",
       "      <td>1.0 out of 5 stars</td>\n",
       "      <td>Bought this product recently on 5 April, was...</td>\n",
       "    </tr>\n",
       "    <tr>\n",
       "      <th>5</th>\n",
       "      <td>Amazon Customer</td>\n",
       "      <td>The sound quality was not good. My laptop star...</td>\n",
       "      <td>1.0 out of 5 stars</td>\n",
       "      <td>Reason for 1 star is I ot an defective piece...</td>\n",
       "    </tr>\n",
       "    <tr>\n",
       "      <th>6</th>\n",
       "      <td>Romeo Menezes</td>\n",
       "      <td>MacBook motherboard and battery collapsed.</td>\n",
       "      <td>1.0 out of 5 stars</td>\n",
       "      <td>I am very upset about the product as I check...</td>\n",
       "    </tr>\n",
       "    <tr>\n",
       "      <th>7</th>\n",
       "      <td>Jagdeep Sharma</td>\n",
       "      <td>Takes six figure out of your pocket and then d...</td>\n",
       "      <td>1.0 out of 5 stars</td>\n",
       "      <td>Hi, Think thousand time before buying. One c...</td>\n",
       "    </tr>\n",
       "    <tr>\n",
       "      <th>8</th>\n",
       "      <td>Jason</td>\n",
       "      <td>Perfect product!</td>\n",
       "      <td>4.0 out of 5 stars</td>\n",
       "      <td>I have been a Macbook pro user for last 2 ye...</td>\n",
       "    </tr>\n",
       "    <tr>\n",
       "      <th>9</th>\n",
       "      <td>Vishal Surani</td>\n",
       "      <td>Worst product hardwares</td>\n",
       "      <td>1.0 out of 5 stars</td>\n",
       "      <td>Never purchase any Apple products. I bought ...</td>\n",
       "    </tr>\n",
       "  </tbody>\n",
       "</table>\n",
       "</div>"
      ],
      "text/plain": [
       "     Customer Name                                       Review Title  \\\n",
       "0  Shantanu Bangar                                             Superb   \n",
       "1     Sumit Kukade                    DEAD after 1 year two months...   \n",
       "2          Kaushal                            Justified Apple Product   \n",
       "3  saurabh chauhan  My first apple product: fully satisfied- here ...   \n",
       "4     Anvit shetty                                  Dead mac book air   \n",
       "5  Amazon Customer  The sound quality was not good. My laptop star...   \n",
       "6    Romeo Menezes         MacBook motherboard and battery collapsed.   \n",
       "7   Jagdeep Sharma  Takes six figure out of your pocket and then d...   \n",
       "8            Jason                                   Perfect product!   \n",
       "9    Vishal Surani                            Worst product hardwares   \n",
       "\n",
       "               Rating                                            Reviews  \n",
       "0  5.0 out of 5 stars    It's amazing..... battery last around 10 -12...  \n",
       "1  1.0 out of 5 stars    We buy macbook's expecting that it will last...  \n",
       "2  5.0 out of 5 stars    Pros:1. Light weight and super fast response...  \n",
       "3  5.0 out of 5 stars    Best Laptop under 60k. If you don't want any...  \n",
       "4  1.0 out of 5 stars    Bought this product recently on 5 April, was...  \n",
       "5  1.0 out of 5 stars    Reason for 1 star is I ot an defective piece...  \n",
       "6  1.0 out of 5 stars    I am very upset about the product as I check...  \n",
       "7  1.0 out of 5 stars    Hi, Think thousand time before buying. One c...  \n",
       "8  4.0 out of 5 stars    I have been a Macbook pro user for last 2 ye...  \n",
       "9  1.0 out of 5 stars    Never purchase any Apple products. I bought ...  "
      ]
     },
     "execution_count": 13,
     "metadata": {},
     "output_type": "execute_result"
    }
   ],
   "source": [
    "df.head(10)"
   ]
  },
  {
   "cell_type": "code",
   "execution_count": 14,
   "id": "05553c1d",
   "metadata": {
    "ExecuteTime": {
     "end_time": "2022-01-03T17:51:05.382814Z",
     "start_time": "2022-01-03T17:51:03.834100Z"
    }
   },
   "outputs": [],
   "source": [
    "df.to_csv(r'E:fill.csv',index = True)"
   ]
  },
  {
   "cell_type": "code",
   "execution_count": 15,
   "id": "47754e5d",
   "metadata": {
    "ExecuteTime": {
     "end_time": "2022-01-03T17:51:21.517227Z",
     "start_time": "2022-01-03T17:51:20.864962Z"
    }
   },
   "outputs": [],
   "source": [
    "data = pd.read_csv(\"E:fill.csv\",index_col=[0])"
   ]
  },
  {
   "cell_type": "code",
   "execution_count": 16,
   "id": "6c01642b",
   "metadata": {
    "ExecuteTime": {
     "end_time": "2022-01-03T17:51:36.484042Z",
     "start_time": "2022-01-03T17:51:36.462021Z"
    }
   },
   "outputs": [
    {
     "data": {
      "text/plain": [
       "Customer Name    object\n",
       "Review Title     object\n",
       "Rating           object\n",
       "Reviews          object\n",
       "dtype: object"
      ]
     },
     "execution_count": 16,
     "metadata": {},
     "output_type": "execute_result"
    }
   ],
   "source": [
    "data.dtypes"
   ]
  },
  {
   "cell_type": "code",
   "execution_count": 17,
   "id": "ae7aa59a",
   "metadata": {
    "ExecuteTime": {
     "end_time": "2022-01-03T17:51:53.433531Z",
     "start_time": "2022-01-03T17:51:53.385523Z"
    }
   },
   "outputs": [
    {
     "data": {
      "text/plain": [
       "0       5.0\n",
       "1       1.0\n",
       "2       5.0\n",
       "3       5.0\n",
       "4       1.0\n",
       "       ... \n",
       "1285    5.0\n",
       "1286    5.0\n",
       "1287    5.0\n",
       "1288    5.0\n",
       "1289    5.0\n",
       "Name: Rating, Length: 1290, dtype: object"
      ]
     },
     "execution_count": 17,
     "metadata": {},
     "output_type": "execute_result"
    }
   ],
   "source": [
    "data['Rating'] = [titles.rstrip(' out of 5 stars') for titles in data['Rating']]\n",
    "data['Rating']"
   ]
  },
  {
   "cell_type": "code",
   "execution_count": 18,
   "id": "7ec6a33f",
   "metadata": {
    "ExecuteTime": {
     "end_time": "2022-01-03T17:52:31.545355Z",
     "start_time": "2022-01-03T17:52:30.587460Z"
    }
   },
   "outputs": [
    {
     "data": {
      "text/plain": [
       "5.0    67.286822\n",
       "1.0    14.031008\n",
       "4.0    12.945736\n",
       "3.0     3.178295\n",
       "2.0     2.558140\n",
       "Name: Rating, dtype: float64"
      ]
     },
     "execution_count": 18,
     "metadata": {},
     "output_type": "execute_result"
    }
   ],
   "source": [
    "data['Rating'].value_counts(normalize=True)*100"
   ]
  },
  {
   "cell_type": "code",
   "execution_count": 19,
   "id": "42b3f329",
   "metadata": {
    "ExecuteTime": {
     "end_time": "2022-01-03T17:53:02.197780Z",
     "start_time": "2022-01-03T17:53:00.869154Z"
    }
   },
   "outputs": [
    {
     "data": {
      "text/html": [
       "<div>\n",
       "<style scoped>\n",
       "    .dataframe tbody tr th:only-of-type {\n",
       "        vertical-align: middle;\n",
       "    }\n",
       "\n",
       "    .dataframe tbody tr th {\n",
       "        vertical-align: top;\n",
       "    }\n",
       "\n",
       "    .dataframe thead th {\n",
       "        text-align: right;\n",
       "    }\n",
       "</style>\n",
       "<table border=\"1\" class=\"dataframe\">\n",
       "  <thead>\n",
       "    <tr style=\"text-align: right;\">\n",
       "      <th></th>\n",
       "      <th>Customer Name</th>\n",
       "      <th>Review Title</th>\n",
       "      <th>Reviews</th>\n",
       "    </tr>\n",
       "    <tr>\n",
       "      <th>Rating</th>\n",
       "      <th></th>\n",
       "      <th></th>\n",
       "      <th></th>\n",
       "    </tr>\n",
       "  </thead>\n",
       "  <tbody>\n",
       "    <tr>\n",
       "      <th>1.0</th>\n",
       "      <td>181</td>\n",
       "      <td>181</td>\n",
       "      <td>181</td>\n",
       "    </tr>\n",
       "    <tr>\n",
       "      <th>2.0</th>\n",
       "      <td>33</td>\n",
       "      <td>33</td>\n",
       "      <td>33</td>\n",
       "    </tr>\n",
       "    <tr>\n",
       "      <th>3.0</th>\n",
       "      <td>41</td>\n",
       "      <td>41</td>\n",
       "      <td>41</td>\n",
       "    </tr>\n",
       "    <tr>\n",
       "      <th>4.0</th>\n",
       "      <td>167</td>\n",
       "      <td>167</td>\n",
       "      <td>167</td>\n",
       "    </tr>\n",
       "    <tr>\n",
       "      <th>5.0</th>\n",
       "      <td>868</td>\n",
       "      <td>868</td>\n",
       "      <td>868</td>\n",
       "    </tr>\n",
       "  </tbody>\n",
       "</table>\n",
       "</div>"
      ],
      "text/plain": [
       "        Customer Name  Review Title  Reviews\n",
       "Rating                                      \n",
       "1.0               181           181      181\n",
       "2.0                33            33       33\n",
       "3.0                41            41       41\n",
       "4.0               167           167      167\n",
       "5.0               868           868      868"
      ]
     },
     "execution_count": 19,
     "metadata": {},
     "output_type": "execute_result"
    }
   ],
   "source": [
    "ratings=data.groupby(['Rating']).count()\n",
    "ratings"
   ]
  },
  {
   "cell_type": "code",
   "execution_count": 5,
   "id": "11eb3533",
   "metadata": {
    "ExecuteTime": {
     "end_time": "2022-01-03T17:53:38.190973Z",
     "start_time": "2022-01-03T17:53:29.491120Z"
    }
   },
   "outputs": [
    {
     "ename": "NameError",
     "evalue": "name 'data' is not defined",
     "output_type": "error",
     "traceback": [
      "\u001b[1;31m---------------------------------------------------------------------------\u001b[0m",
      "\u001b[1;31mNameError\u001b[0m                                 Traceback (most recent call last)",
      "\u001b[1;32m<ipython-input-5-b9af7d75bb02>\u001b[0m in \u001b[0;36m<module>\u001b[1;34m\u001b[0m\n\u001b[0;32m      1\u001b[0m \u001b[0mplt\u001b[0m\u001b[1;33m.\u001b[0m\u001b[0mfigure\u001b[0m\u001b[1;33m(\u001b[0m\u001b[0mfigsize\u001b[0m\u001b[1;33m=\u001b[0m\u001b[1;33m(\u001b[0m\u001b[1;36m12\u001b[0m\u001b[1;33m,\u001b[0m\u001b[1;36m8\u001b[0m\u001b[1;33m)\u001b[0m\u001b[1;33m)\u001b[0m\u001b[1;33m\u001b[0m\u001b[1;33m\u001b[0m\u001b[0m\n\u001b[1;32m----> 2\u001b[1;33m \u001b[0mdata\u001b[0m\u001b[1;33m[\u001b[0m\u001b[1;34m'Rating'\u001b[0m\u001b[1;33m]\u001b[0m\u001b[1;33m.\u001b[0m\u001b[0mvalue_counts\u001b[0m\u001b[1;33m(\u001b[0m\u001b[1;33m)\u001b[0m\u001b[1;33m.\u001b[0m\u001b[0msort_index\u001b[0m\u001b[1;33m(\u001b[0m\u001b[1;33m)\u001b[0m\u001b[1;33m.\u001b[0m\u001b[0mplot\u001b[0m\u001b[1;33m(\u001b[0m\u001b[0mkind\u001b[0m\u001b[1;33m=\u001b[0m\u001b[1;34m'bar'\u001b[0m\u001b[1;33m)\u001b[0m\u001b[1;33m\u001b[0m\u001b[1;33m\u001b[0m\u001b[0m\n\u001b[0m\u001b[0;32m      3\u001b[0m \u001b[0mplt\u001b[0m\u001b[1;33m.\u001b[0m\u001b[0mtitle\u001b[0m\u001b[1;33m(\u001b[0m\u001b[1;34m'Distribution of Rating'\u001b[0m\u001b[1;33m)\u001b[0m\u001b[1;33m\u001b[0m\u001b[1;33m\u001b[0m\u001b[0m\n\u001b[0;32m      4\u001b[0m \u001b[0mplt\u001b[0m\u001b[1;33m.\u001b[0m\u001b[0mxlabel\u001b[0m\u001b[1;33m(\u001b[0m\u001b[1;34m'Rating'\u001b[0m\u001b[1;33m)\u001b[0m\u001b[1;33m\u001b[0m\u001b[1;33m\u001b[0m\u001b[0m\n\u001b[0;32m      5\u001b[0m \u001b[0mplt\u001b[0m\u001b[1;33m.\u001b[0m\u001b[0mylabel\u001b[0m\u001b[1;33m(\u001b[0m\u001b[1;34m'Count'\u001b[0m\u001b[1;33m)\u001b[0m\u001b[1;33m\u001b[0m\u001b[1;33m\u001b[0m\u001b[0m\n",
      "\u001b[1;31mNameError\u001b[0m: name 'data' is not defined"
     ]
    },
    {
     "data": {
      "text/plain": [
       "<Figure size 864x576 with 0 Axes>"
      ]
     },
     "metadata": {},
     "output_type": "display_data"
    }
   ],
   "source": [
    "plt.figure(figsize=(12,8))\n",
    "data['Rating'].value_counts().sort_index().plot(kind='bar')\n",
    "plt.title('Distribution of Rating')\n",
    "plt.xlabel('Rating')\n",
    "plt.ylabel('Count')"
   ]
  },
  {
   "cell_type": "code",
   "execution_count": 4,
   "id": "d76c4b29",
   "metadata": {
    "ExecuteTime": {
     "end_time": "2022-01-03T17:53:49.632208Z",
     "start_time": "2022-01-03T17:53:48.906075Z"
    }
   },
   "outputs": [
    {
     "ename": "NameError",
     "evalue": "name 'data' is not defined",
     "output_type": "error",
     "traceback": [
      "\u001b[1;31m---------------------------------------------------------------------------\u001b[0m",
      "\u001b[1;31mNameError\u001b[0m                                 Traceback (most recent call last)",
      "\u001b[1;32m<ipython-input-4-7a3dfc090cbf>\u001b[0m in \u001b[0;36m<module>\u001b[1;34m\u001b[0m\n\u001b[1;32m----> 1\u001b[1;33m \u001b[0mdata\u001b[0m\u001b[1;33m.\u001b[0m\u001b[0mRating\u001b[0m\u001b[1;33m.\u001b[0m\u001b[0mhist\u001b[0m\u001b[1;33m(\u001b[0m\u001b[1;33m)\u001b[0m\u001b[1;33m\u001b[0m\u001b[1;33m\u001b[0m\u001b[0m\n\u001b[0m\u001b[0;32m      2\u001b[0m \u001b[0mdata\u001b[0m\u001b[1;33m.\u001b[0m\u001b[0mRating\u001b[0m\u001b[1;33m.\u001b[0m\u001b[0mhist\u001b[0m\u001b[1;33m(\u001b[0m\u001b[0mbins\u001b[0m\u001b[1;33m=\u001b[0m\u001b[1;36m10\u001b[0m\u001b[1;33m)\u001b[0m\u001b[1;33m\u001b[0m\u001b[1;33m\u001b[0m\u001b[0m\n\u001b[0;32m      3\u001b[0m \u001b[0mplt\u001b[0m\u001b[1;33m.\u001b[0m\u001b[0mxlabel\u001b[0m\u001b[1;33m(\u001b[0m\u001b[1;34m'Rating'\u001b[0m\u001b[1;33m)\u001b[0m\u001b[1;33m\u001b[0m\u001b[1;33m\u001b[0m\u001b[0m\n\u001b[0;32m      4\u001b[0m \u001b[0mplt\u001b[0m\u001b[1;33m.\u001b[0m\u001b[0mylabel\u001b[0m\u001b[1;33m(\u001b[0m\u001b[1;34m'Count'\u001b[0m\u001b[1;33m)\u001b[0m\u001b[1;33m\u001b[0m\u001b[1;33m\u001b[0m\u001b[0m\n",
      "\u001b[1;31mNameError\u001b[0m: name 'data' is not defined"
     ]
    }
   ],
   "source": [
    "data.Rating.hist()\n",
    "data.Rating.hist(bins=10)\n",
    "plt.xlabel('Rating')\n",
    "plt.ylabel('Count')"
   ]
  },
  {
   "cell_type": "code",
   "execution_count": 22,
   "id": "f011c1a0",
   "metadata": {
    "ExecuteTime": {
     "end_time": "2022-01-03T17:54:04.342170Z",
     "start_time": "2022-01-03T17:54:04.274609Z"
    }
   },
   "outputs": [
    {
     "data": {
      "text/html": [
       "<div>\n",
       "<style scoped>\n",
       "    .dataframe tbody tr th:only-of-type {\n",
       "        vertical-align: middle;\n",
       "    }\n",
       "\n",
       "    .dataframe tbody tr th {\n",
       "        vertical-align: top;\n",
       "    }\n",
       "\n",
       "    .dataframe thead th {\n",
       "        text-align: right;\n",
       "    }\n",
       "</style>\n",
       "<table border=\"1\" class=\"dataframe\">\n",
       "  <thead>\n",
       "    <tr style=\"text-align: right;\">\n",
       "      <th></th>\n",
       "      <th>Reviews</th>\n",
       "    </tr>\n",
       "  </thead>\n",
       "  <tbody>\n",
       "    <tr>\n",
       "      <th>0</th>\n",
       "      <td>It's amazing..... battery last around 10 -12...</td>\n",
       "    </tr>\n",
       "    <tr>\n",
       "      <th>1</th>\n",
       "      <td>We buy macbook's expecting that it will last...</td>\n",
       "    </tr>\n",
       "    <tr>\n",
       "      <th>2</th>\n",
       "      <td>Pros:1. Light weight and super fast response...</td>\n",
       "    </tr>\n",
       "    <tr>\n",
       "      <th>3</th>\n",
       "      <td>Best Laptop under 60k. If you don't want any...</td>\n",
       "    </tr>\n",
       "    <tr>\n",
       "      <th>4</th>\n",
       "      <td>Bought this product recently on 5 April, was...</td>\n",
       "    </tr>\n",
       "    <tr>\n",
       "      <th>...</th>\n",
       "      <td>...</td>\n",
       "    </tr>\n",
       "    <tr>\n",
       "      <th>1285</th>\n",
       "      <td>Good</td>\n",
       "    </tr>\n",
       "    <tr>\n",
       "      <th>1286</th>\n",
       "      <td>Happy with quality of product and delivery. ...</td>\n",
       "    </tr>\n",
       "    <tr>\n",
       "      <th>1287</th>\n",
       "      <td>Best product</td>\n",
       "    </tr>\n",
       "    <tr>\n",
       "      <th>1288</th>\n",
       "      <td>Nice</td>\n",
       "    </tr>\n",
       "    <tr>\n",
       "      <th>1289</th>\n",
       "      <td>Excellent.</td>\n",
       "    </tr>\n",
       "  </tbody>\n",
       "</table>\n",
       "<p>1290 rows × 1 columns</p>\n",
       "</div>"
      ],
      "text/plain": [
       "                                                Reviews\n",
       "0       It's amazing..... battery last around 10 -12...\n",
       "1       We buy macbook's expecting that it will last...\n",
       "2       Pros:1. Light weight and super fast response...\n",
       "3       Best Laptop under 60k. If you don't want any...\n",
       "4       Bought this product recently on 5 April, was...\n",
       "...                                                 ...\n",
       "1285                                               Good\n",
       "1286    Happy with quality of product and delivery. ...\n",
       "1287                                       Best product\n",
       "1288                                               Nice\n",
       "1289                                         Excellent.\n",
       "\n",
       "[1290 rows x 1 columns]"
      ]
     },
     "execution_count": 22,
     "metadata": {},
     "output_type": "execute_result"
    }
   ],
   "source": [
    "data.iloc[:,[3]]"
   ]
  },
  {
   "cell_type": "code",
   "execution_count": 23,
   "id": "4f8d04e6",
   "metadata": {
    "ExecuteTime": {
     "end_time": "2022-01-03T17:54:19.463532Z",
     "start_time": "2022-01-03T17:54:19.431545Z"
    }
   },
   "outputs": [],
   "source": [
    "Reviews=data.iloc[:,[3]]"
   ]
  },
  {
   "cell_type": "code",
   "execution_count": 24,
   "id": "feb00079",
   "metadata": {
    "ExecuteTime": {
     "end_time": "2022-01-03T17:54:32.802696Z",
     "start_time": "2022-01-03T17:54:32.786675Z"
    }
   },
   "outputs": [
    {
     "data": {
      "text/plain": [
       "(1290, 1)"
      ]
     },
     "execution_count": 24,
     "metadata": {},
     "output_type": "execute_result"
    }
   ],
   "source": [
    "Reviews.shape"
   ]
  },
  {
   "cell_type": "code",
   "execution_count": 25,
   "id": "b772bf06",
   "metadata": {
    "ExecuteTime": {
     "end_time": "2022-01-03T17:54:45.263572Z",
     "start_time": "2022-01-03T17:54:45.203404Z"
    }
   },
   "outputs": [
    {
     "data": {
      "text/html": [
       "<div>\n",
       "<style scoped>\n",
       "    .dataframe tbody tr th:only-of-type {\n",
       "        vertical-align: middle;\n",
       "    }\n",
       "\n",
       "    .dataframe tbody tr th {\n",
       "        vertical-align: top;\n",
       "    }\n",
       "\n",
       "    .dataframe thead th {\n",
       "        text-align: right;\n",
       "    }\n",
       "</style>\n",
       "<table border=\"1\" class=\"dataframe\">\n",
       "  <thead>\n",
       "    <tr style=\"text-align: right;\">\n",
       "      <th></th>\n",
       "      <th>Reviews</th>\n",
       "    </tr>\n",
       "  </thead>\n",
       "  <tbody>\n",
       "    <tr>\n",
       "      <th>count</th>\n",
       "      <td>1290</td>\n",
       "    </tr>\n",
       "    <tr>\n",
       "      <th>unique</th>\n",
       "      <td>1184</td>\n",
       "    </tr>\n",
       "    <tr>\n",
       "      <th>top</th>\n",
       "      <td>Good</td>\n",
       "    </tr>\n",
       "    <tr>\n",
       "      <th>freq</th>\n",
       "      <td>28</td>\n",
       "    </tr>\n",
       "  </tbody>\n",
       "</table>\n",
       "</div>"
      ],
      "text/plain": [
       "       Reviews\n",
       "count     1290\n",
       "unique    1184\n",
       "top       Good\n",
       "freq        28"
      ]
     },
     "execution_count": 25,
     "metadata": {},
     "output_type": "execute_result"
    }
   ],
   "source": [
    "Reviews.describe()"
   ]
  },
  {
   "cell_type": "code",
   "execution_count": 26,
   "id": "afdb3f45",
   "metadata": {
    "ExecuteTime": {
     "end_time": "2022-01-03T17:55:00.585619Z",
     "start_time": "2022-01-03T17:55:00.566533Z"
    }
   },
   "outputs": [
    {
     "data": {
      "text/plain": [
       "Reviews    object\n",
       "dtype: object"
      ]
     },
     "execution_count": 26,
     "metadata": {},
     "output_type": "execute_result"
    }
   ],
   "source": [
    "Reviews.dtypes"
   ]
  },
  {
   "cell_type": "code",
   "execution_count": 27,
   "id": "29bf04ab",
   "metadata": {
    "ExecuteTime": {
     "end_time": "2022-01-03T17:55:17.661810Z",
     "start_time": "2022-01-03T17:55:17.629521Z"
    }
   },
   "outputs": [
    {
     "data": {
      "text/html": [
       "<div>\n",
       "<style scoped>\n",
       "    .dataframe tbody tr th:only-of-type {\n",
       "        vertical-align: middle;\n",
       "    }\n",
       "\n",
       "    .dataframe tbody tr th {\n",
       "        vertical-align: top;\n",
       "    }\n",
       "\n",
       "    .dataframe thead th {\n",
       "        text-align: right;\n",
       "    }\n",
       "</style>\n",
       "<table border=\"1\" class=\"dataframe\">\n",
       "  <thead>\n",
       "    <tr style=\"text-align: right;\">\n",
       "      <th></th>\n",
       "      <th>Rating</th>\n",
       "      <th>Reviews</th>\n",
       "    </tr>\n",
       "  </thead>\n",
       "  <tbody>\n",
       "    <tr>\n",
       "      <th>0</th>\n",
       "      <td>5.0</td>\n",
       "      <td>It's amazing..... battery last around 10 -12...</td>\n",
       "    </tr>\n",
       "    <tr>\n",
       "      <th>1</th>\n",
       "      <td>1.0</td>\n",
       "      <td>We buy macbook's expecting that it will last...</td>\n",
       "    </tr>\n",
       "    <tr>\n",
       "      <th>2</th>\n",
       "      <td>5.0</td>\n",
       "      <td>Pros:1. Light weight and super fast response...</td>\n",
       "    </tr>\n",
       "    <tr>\n",
       "      <th>3</th>\n",
       "      <td>5.0</td>\n",
       "      <td>Best Laptop under 60k. If you don't want any...</td>\n",
       "    </tr>\n",
       "    <tr>\n",
       "      <th>4</th>\n",
       "      <td>1.0</td>\n",
       "      <td>Bought this product recently on 5 April, was...</td>\n",
       "    </tr>\n",
       "  </tbody>\n",
       "</table>\n",
       "</div>"
      ],
      "text/plain": [
       "  Rating                                            Reviews\n",
       "0    5.0    It's amazing..... battery last around 10 -12...\n",
       "1    1.0    We buy macbook's expecting that it will last...\n",
       "2    5.0    Pros:1. Light weight and super fast response...\n",
       "3    5.0    Best Laptop under 60k. If you don't want any...\n",
       "4    1.0    Bought this product recently on 5 April, was..."
      ]
     },
     "execution_count": 27,
     "metadata": {},
     "output_type": "execute_result"
    }
   ],
   "source": [
    "# removing customer name and reviw title column as they have not that significance in output##\n",
    "data.drop([\"Customer Name\",\"Review Title\"],axis=1,inplace=True)\n",
    "data.head()"
   ]
  },
  {
   "cell_type": "code",
   "execution_count": 30,
   "id": "b8d0a90f",
   "metadata": {
    "ExecuteTime": {
     "end_time": "2022-01-03T17:56:10.219279Z",
     "start_time": "2022-01-03T17:56:10.205098Z"
    }
   },
   "outputs": [
    {
     "data": {
      "text/plain": [
       "0"
      ]
     },
     "execution_count": 30,
     "metadata": {},
     "output_type": "execute_result"
    }
   ],
   "source": [
    "data.Reviews.isna().sum()"
   ]
  },
  {
   "cell_type": "code",
   "execution_count": 31,
   "id": "3ee64cc3",
   "metadata": {
    "ExecuteTime": {
     "end_time": "2022-01-03T17:56:11.388194Z",
     "start_time": "2022-01-03T17:56:11.364317Z"
    }
   },
   "outputs": [
    {
     "data": {
      "text/plain": [
       "0"
      ]
     },
     "execution_count": 31,
     "metadata": {},
     "output_type": "execute_result"
    }
   ],
   "source": [
    "data.Reviews.isna().sum()"
   ]
  },
  {
   "cell_type": "code",
   "execution_count": 32,
   "id": "4b64f392",
   "metadata": {
    "ExecuteTime": {
     "end_time": "2022-01-03T17:56:16.697149Z",
     "start_time": "2022-01-03T17:56:16.672036Z"
    }
   },
   "outputs": [
    {
     "data": {
      "text/plain": [
       "0"
      ]
     },
     "execution_count": 32,
     "metadata": {},
     "output_type": "execute_result"
    }
   ],
   "source": [
    "data['Reviews']=data['Reviews'].fillna(\" \")\n",
    "data.Reviews.isna().sum()"
   ]
  },
  {
   "cell_type": "code",
   "execution_count": 33,
   "id": "f036d0d9",
   "metadata": {
    "ExecuteTime": {
     "end_time": "2022-01-03T17:57:47.569165Z",
     "start_time": "2022-01-03T17:57:47.471588Z"
    }
   },
   "outputs": [],
   "source": [
    "data['Reviews']= data['Reviews'].apply(lambda x: \" \".join(word.lower() for word in x.split()))"
   ]
  },
  {
   "cell_type": "code",
   "execution_count": 34,
   "id": "b7377449",
   "metadata": {
    "ExecuteTime": {
     "end_time": "2022-01-03T17:58:02.479725Z",
     "start_time": "2022-01-03T17:58:02.423179Z"
    }
   },
   "outputs": [],
   "source": [
    "import string\n",
    "data['Reviews']=data['Reviews'].apply(lambda x:''.join([i for i in x  if i not in string.punctuation]))"
   ]
  },
  {
   "cell_type": "code",
   "execution_count": 2,
   "id": "c8e84b6a",
   "metadata": {
    "ExecuteTime": {
     "end_time": "2022-01-03T17:58:16.105039Z",
     "start_time": "2022-01-03T17:58:16.041109Z"
    }
   },
   "outputs": [
    {
     "ename": "NameError",
     "evalue": "name 'data' is not defined",
     "output_type": "error",
     "traceback": [
      "\u001b[1;31m---------------------------------------------------------------------------\u001b[0m",
      "\u001b[1;31mNameError\u001b[0m                                 Traceback (most recent call last)",
      "\u001b[1;32m<ipython-input-2-3ea9905fa566>\u001b[0m in \u001b[0;36m<module>\u001b[1;34m\u001b[0m\n\u001b[1;32m----> 1\u001b[1;33m \u001b[0mdata\u001b[0m\u001b[1;33m[\u001b[0m\u001b[1;34m'Reviews'\u001b[0m\u001b[1;33m]\u001b[0m\u001b[1;33m=\u001b[0m\u001b[0mdata\u001b[0m\u001b[1;33m[\u001b[0m\u001b[1;34m'Reviews'\u001b[0m\u001b[1;33m]\u001b[0m\u001b[1;33m.\u001b[0m\u001b[0mstr\u001b[0m\u001b[1;33m.\u001b[0m\u001b[0mreplace\u001b[0m\u001b[1;33m(\u001b[0m\u001b[1;34m'[0-9]'\u001b[0m\u001b[1;33m,\u001b[0m\u001b[1;34m''\u001b[0m\u001b[1;33m)\u001b[0m\u001b[1;33m\u001b[0m\u001b[1;33m\u001b[0m\u001b[0m\n\u001b[0m",
      "\u001b[1;31mNameError\u001b[0m: name 'data' is not defined"
     ]
    }
   ],
   "source": [
    "data['Reviews']=data['Reviews'].str.replace('[0-9]','')"
   ]
  },
  {
   "cell_type": "code",
   "execution_count": null,
   "id": "83bf0542",
   "metadata": {
    "ExecuteTime": {
     "end_time": "2022-01-03T18:08:58.633010Z",
     "start_time": "2022-01-03T18:08:58.617015Z"
    }
   },
   "outputs": [],
   "source": [
    "## removing all stopwords(english)....###\n",
    "from nltk.corpus import stopwords"
   ]
  },
  {
   "cell_type": "code",
   "execution_count": null,
   "id": "9df63360",
   "metadata": {
    "ExecuteTime": {
     "end_time": "2022-01-03T18:08:59.338133Z",
     "start_time": "2022-01-03T18:08:59.314104Z"
    }
   },
   "outputs": [],
   "source": [
    "nltk.download('stopwords')"
   ]
  },
  {
   "cell_type": "code",
   "execution_count": null,
   "id": "5491818f",
   "metadata": {
    "ExecuteTime": {
     "end_time": "2022-01-03T18:27:54.584218Z",
     "start_time": "2022-01-03T18:27:54.553022Z"
    }
   },
   "outputs": [],
   "source": [
    "import re\n",
    "import nltk\n",
    "nltk.download('stopwords')"
   ]
  },
  {
   "cell_type": "code",
   "execution_count": null,
   "id": "5a21f1ce",
   "metadata": {
    "ExecuteTime": {
     "end_time": "2022-01-03T18:09:01.981214Z",
     "start_time": "2022-01-03T18:09:01.932846Z"
    }
   },
   "outputs": [],
   "source": [
    "data['Reviews']=data['Reviews'].apply(lambda x: \" \".join(word for word in x.split() if word not in stop_words))"
   ]
  },
  {
   "cell_type": "code",
   "execution_count": null,
   "id": "89f91765",
   "metadata": {
    "ExecuteTime": {
     "end_time": "2022-01-03T18:18:25.590849Z",
     "start_time": "2022-01-03T18:18:25.558473Z"
    }
   },
   "outputs": [],
   "source": [
    "data.head(5)"
   ]
  },
  {
   "cell_type": "code",
   "execution_count": null,
   "id": "a0e98a57",
   "metadata": {
    "ExecuteTime": {
     "end_time": "2022-01-03T18:18:25.957317Z",
     "start_time": "2022-01-03T18:18:25.590849Z"
    }
   },
   "outputs": [],
   "source": [
    "from textblob import Word\n",
    "data['Reviews']= data['Reviews'].apply(lambda x: \" \".join([Word(word).lemmatize() for word in x.split()]))\n",
    "\n",
    "import re\n",
    "pattern = r\"((?<=^)|(?<= )).((?=$)|(?= ))\"\n",
    "data['Reviews']= data['Reviews'].apply(lambda x:(re.sub(pattern, '',x).strip()))"
   ]
  },
  {
   "cell_type": "code",
   "execution_count": null,
   "id": "ad089de0",
   "metadata": {
    "ExecuteTime": {
     "end_time": "2022-01-03T18:15:25.978312Z",
     "start_time": "2022-01-03T18:15:25.469495Z"
    }
   },
   "outputs": [],
   "source": [
    "data['Reviews'].head()"
   ]
  },
  {
   "cell_type": "code",
   "execution_count": null,
   "id": "42faf9ae",
   "metadata": {
    "ExecuteTime": {
     "end_time": "2022-01-03T18:15:51.131794Z",
     "start_time": "2022-01-03T18:15:49.709306Z"
    }
   },
   "outputs": [],
   "source": [
    "from sklearn.feature_extraction.text import CountVectorizer\n",
    "\n",
    "\n",
    "vec = CountVectorizer()\n",
    "X = vec.fit_transform(data['Reviews'])\n",
    "df = pd.DataFrame(X.toarray(), columns=vec.get_feature_names())\n",
    "print(df)"
   ]
  },
  {
   "cell_type": "code",
   "execution_count": null,
   "id": "8b1a16f7",
   "metadata": {
    "ExecuteTime": {
     "end_time": "2022-01-03T18:19:15.481375Z",
     "start_time": "2022-01-03T18:19:14.076097Z"
    },
    "scrolled": true
   },
   "outputs": [],
   "source": [
    "from sklearn.feature_extraction.text import TfidfVectorizer\n",
    "tfidf=TfidfVectorizer()\n",
    "TFIDF=tfidf.fit_transform(data['Reviews'])\n",
    "print(TFIDF)"
   ]
  },
  {
   "cell_type": "markdown",
   "id": "cc4799ce",
   "metadata": {},
   "source": [
    "## Word Cloud\n"
   ]
  },
  {
   "cell_type": "code",
   "execution_count": 3,
   "id": "93332656",
   "metadata": {
    "ExecuteTime": {
     "end_time": "2022-01-03T18:21:22.348853Z",
     "start_time": "2022-01-03T18:20:16.843024Z"
    }
   },
   "outputs": [
    {
     "ename": "NameError",
     "evalue": "name 'data' is not defined",
     "output_type": "error",
     "traceback": [
      "\u001b[1;31m---------------------------------------------------------------------------\u001b[0m",
      "\u001b[1;31mNameError\u001b[0m                                 Traceback (most recent call last)",
      "\u001b[1;32m<ipython-input-3-1171aac71f53>\u001b[0m in \u001b[0;36m<module>\u001b[1;34m\u001b[0m\n\u001b[1;32m----> 1\u001b[1;33m \u001b[0mReview_wordcloud\u001b[0m \u001b[1;33m=\u001b[0m \u001b[1;34m' '\u001b[0m\u001b[1;33m.\u001b[0m\u001b[0mjoin\u001b[0m\u001b[1;33m(\u001b[0m\u001b[0mdata\u001b[0m\u001b[1;33m[\u001b[0m\u001b[1;34m'Reviews'\u001b[0m\u001b[1;33m]\u001b[0m\u001b[1;33m)\u001b[0m\u001b[1;33m\u001b[0m\u001b[1;33m\u001b[0m\u001b[0m\n\u001b[0m\u001b[0;32m      2\u001b[0m Q_wordcloud=WordCloud(\n\u001b[0;32m      3\u001b[0m                     \u001b[0mbackground_color\u001b[0m\u001b[1;33m=\u001b[0m\u001b[1;34m'white'\u001b[0m\u001b[1;33m,\u001b[0m\u001b[1;33m\u001b[0m\u001b[1;33m\u001b[0m\u001b[0m\n\u001b[0;32m      4\u001b[0m                     \u001b[0mwidth\u001b[0m\u001b[1;33m=\u001b[0m\u001b[1;36m2000\u001b[0m\u001b[1;33m,\u001b[0m\u001b[1;33m\u001b[0m\u001b[1;33m\u001b[0m\u001b[0m\n\u001b[0;32m      5\u001b[0m                     \u001b[0mheight\u001b[0m\u001b[1;33m=\u001b[0m\u001b[1;36m2000\u001b[0m\u001b[1;33m\u001b[0m\u001b[1;33m\u001b[0m\u001b[0m\n",
      "\u001b[1;31mNameError\u001b[0m: name 'data' is not defined"
     ]
    }
   ],
   "source": [
    "Review_wordcloud = ' '.join(data['Reviews'])\n",
    "Q_wordcloud=WordCloud(\n",
    "                    background_color='white',\n",
    "                    width=2000,\n",
    "                    height=2000\n",
    "                   ).generate(Review_wordcloud)\n",
    "fig = plt.figure(figsize = (10, 10))\n",
    "plt.axis('on')\n",
    "plt.imshow(Q_wordcloud)"
   ]
  },
  {
   "cell_type": "code",
   "execution_count": null,
   "id": "16354e1f",
   "metadata": {},
   "outputs": [],
   "source": []
  },
  {
   "cell_type": "code",
   "execution_count": null,
   "id": "1ad946dd",
   "metadata": {},
   "outputs": [],
   "source": []
  }
 ],
 "metadata": {
  "kernelspec": {
   "display_name": "Python 3",
   "language": "python",
   "name": "python3"
  },
  "language_info": {
   "codemirror_mode": {
    "name": "ipython",
    "version": 3
   },
   "file_extension": ".py",
   "mimetype": "text/x-python",
   "name": "python",
   "nbconvert_exporter": "python",
   "pygments_lexer": "ipython3",
   "version": "3.8.8"
  },
  "varInspector": {
   "cols": {
    "lenName": 16,
    "lenType": 16,
    "lenVar": 40
   },
   "kernels_config": {
    "python": {
     "delete_cmd_postfix": "",
     "delete_cmd_prefix": "del ",
     "library": "var_list.py",
     "varRefreshCmd": "print(var_dic_list())"
    },
    "r": {
     "delete_cmd_postfix": ") ",
     "delete_cmd_prefix": "rm(",
     "library": "var_list.r",
     "varRefreshCmd": "cat(var_dic_list()) "
    }
   },
   "types_to_exclude": [
    "module",
    "function",
    "builtin_function_or_method",
    "instance",
    "_Feature"
   ],
   "window_display": false
  }
 },
 "nbformat": 4,
 "nbformat_minor": 5
}
